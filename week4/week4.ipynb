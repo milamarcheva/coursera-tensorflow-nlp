{
 "cells": [
  {
   "cell_type": "code",
   "execution_count": 17,
   "metadata": {
    "colab": {},
    "colab_type": "code",
    "id": "BOwsuGQQY9OL"
   },
   "outputs": [],
   "source": [
    "from tensorflow.keras.preprocessing.sequence import pad_sequences\n",
    "from tensorflow.keras.layers import Embedding, LSTM, Dense, Dropout, Bidirectional\n",
    "from tensorflow.keras.preprocessing.text import Tokenizer\n",
    "from tensorflow.keras.models import Sequential\n",
    "from tensorflow.keras.optimizers import Adam\n",
    "from tensorflow.keras import regularizers\n",
    "\n",
    "import tensorflow.keras.utils as ku \n",
    "from urllib.request import urlopen\n",
    "import numpy as np "
   ]
  },
  {
   "cell_type": "code",
   "execution_count": 16,
   "metadata": {
    "colab": {},
    "colab_type": "code",
    "id": "PRnDnCW-Z7qv"
   },
   "outputs": [],
   "source": [
    "tokenizer = Tokenizer()\n",
    "\n",
    "url = \"https://storage.googleapis.com/laurencemoroney-blog.appspot.com/sonnets.txt\"\n",
    "data = urlopen(url).read().decode('utf-8')\n",
    "corpus = data.lower().split(\"\\n\")\n",
    "\n",
    "tokenizer.fit_on_texts(corpus)\n",
    "total_words = len(tokenizer.word_index) + 1\n",
    "\n",
    "# create input sequences using list of tokens\n",
    "input_sequences = []\n",
    "for line in corpus:\n",
    "    token_list = tokenizer.texts_to_sequences([line])[0]\n",
    "    for i in range(1, len(token_list)):\n",
    "        n_gram_sequence = token_list[:i+1]\n",
    "        input_sequences.append(n_gram_sequence)\n",
    "\n",
    "\n",
    "# pad sequences \n",
    "max_sequence_len = max([len(x) for x in input_sequences])\n",
    "input_sequences = np.array(pad_sequences(input_sequences, maxlen=max_sequence_len, padding='pre'))\n",
    "\n",
    "# create predictors and label\n",
    "predictors, label = input_sequences[:,:-1],input_sequences[:,-1]\n",
    "\n",
    "label = ku.to_categorical(label, num_classes=total_words)"
   ]
  },
  {
   "cell_type": "code",
   "execution_count": 19,
   "metadata": {
    "colab": {},
    "colab_type": "code",
    "id": "w9vH8Y59ajYL"
   },
   "outputs": [
    {
     "name": "stdout",
     "output_type": "stream",
     "text": [
      "Model: \"sequential_1\"\n",
      "_________________________________________________________________\n",
      "Layer (type)                 Output Shape              Param #   \n",
      "=================================================================\n",
      "embedding_1 (Embedding)      (None, 10, 100)           321100    \n",
      "_________________________________________________________________\n",
      "bidirectional_1 (Bidirection (None, 10, 300)           301200    \n",
      "_________________________________________________________________\n",
      "dropout_1 (Dropout)          (None, 10, 300)           0         \n",
      "_________________________________________________________________\n",
      "lstm_3 (LSTM)                (None, 100)               160400    \n",
      "_________________________________________________________________\n",
      "dense (Dense)                (None, 3211)              324311    \n",
      "_________________________________________________________________\n",
      "dense_1 (Dense)              (None, 3211)              10313732  \n",
      "=================================================================\n",
      "Total params: 11,420,743\n",
      "Trainable params: 11,420,743\n",
      "Non-trainable params: 0\n",
      "_________________________________________________________________\n",
      "None\n"
     ]
    }
   ],
   "source": [
    "model = Sequential()\n",
    "model.add(Embedding(total_words, 100, input_length=max_sequence_len-1))\n",
    "model.add(Bidirectional(LSTM(150, return_sequences=True)))\n",
    "model.add(Dropout(0.1))\n",
    "model.add(LSTM(100))\n",
    "model.add(Dense(total_words, activation='relu', kernel_regularizer=regularizers.l2(0.01)))\n",
    "model.add(Dense(total_words, activation='softmax'))\n",
    "# Pick an optimizer\n",
    "model.compile(loss='categorical_crossentropy', optimizer='adam', metrics=['accuracy'])\n",
    "print(model.summary())\n"
   ]
  },
  {
   "cell_type": "code",
   "execution_count": 20,
   "metadata": {
    "colab": {},
    "colab_type": "code",
    "id": "AIg2f1HBxqof"
   },
   "outputs": [
    {
     "name": "stdout",
     "output_type": "stream",
     "text": [
      "Train on 15462 samples\n",
      "Epoch 1/100\n",
      "15462/15462 [==============================] - 72s 5ms/sample - loss: 6.8851 - accuracy: 0.0220\n",
      "Epoch 2/100\n",
      "15462/15462 [==============================] - 72s 5ms/sample - loss: 6.4991 - accuracy: 0.0213\n",
      "Epoch 3/100\n",
      "15462/15462 [==============================] - 77s 5ms/sample - loss: 6.3934 - accuracy: 0.0256\n",
      "Epoch 4/100\n",
      "15462/15462 [==============================] - 73s 5ms/sample - loss: 6.2673 - accuracy: 0.0316\n",
      "Epoch 5/100\n",
      "15462/15462 [==============================] - 72s 5ms/sample - loss: 6.1631 - accuracy: 0.0368\n",
      "Epoch 6/100\n",
      "15462/15462 [==============================] - 73s 5ms/sample - loss: 6.0779 - accuracy: 0.0391\n",
      "Epoch 7/100\n",
      "15462/15462 [==============================] - 82s 5ms/sample - loss: 5.9947 - accuracy: 0.0418\n",
      "Epoch 8/100\n",
      "15462/15462 [==============================] - 74s 5ms/sample - loss: 5.8937 - accuracy: 0.0474\n",
      "Epoch 9/100\n",
      "15462/15462 [==============================] - 78s 5ms/sample - loss: 5.7790 - accuracy: 0.0563\n",
      "Epoch 10/100\n",
      "15462/15462 [==============================] - 80s 5ms/sample - loss: 5.6609 - accuracy: 0.0604\n",
      "Epoch 11/100\n",
      "15462/15462 [==============================] - 101s 7ms/sample - loss: 5.5359 - accuracy: 0.0698\n",
      "Epoch 12/100\n",
      "15462/15462 [==============================] - 125s 8ms/sample - loss: 5.4157 - accuracy: 0.0749\n",
      "Epoch 13/100\n",
      "15462/15462 [==============================] - 134s 9ms/sample - loss: 5.2870 - accuracy: 0.0846\n",
      "Epoch 14/100\n",
      "15462/15462 [==============================] - 142s 9ms/sample - loss: 5.1671 - accuracy: 0.0943\n",
      "Epoch 15/100\n",
      "15462/15462 [==============================] - 96s 6ms/sample - loss: 5.0410 - accuracy: 0.1013\n",
      "Epoch 16/100\n",
      "15462/15462 [==============================] - 96s 6ms/sample - loss: 4.9171 - accuracy: 0.1145\n",
      "Epoch 17/100\n",
      "15462/15462 [==============================] - 111s 7ms/sample - loss: 4.7983 - accuracy: 0.1261\n",
      "Epoch 18/100\n",
      "15462/15462 [==============================] - 100s 6ms/sample - loss: 4.6747 - accuracy: 0.1384\n",
      "Epoch 19/100\n",
      "15462/15462 [==============================] - 95s 6ms/sample - loss: 4.5517 - accuracy: 0.1481\n",
      "Epoch 20/100\n",
      "15462/15462 [==============================] - 106s 7ms/sample - loss: 4.4419 - accuracy: 0.1602\n",
      "Epoch 21/100\n",
      "15462/15462 [==============================] - 112s 7ms/sample - loss: 4.3089 - accuracy: 0.1739\n",
      "Epoch 22/100\n",
      "15462/15462 [==============================] - 105s 7ms/sample - loss: 4.1942 - accuracy: 0.1900\n",
      "Epoch 23/100\n",
      "15462/15462 [==============================] - 98s 6ms/sample - loss: 4.0717 - accuracy: 0.2015s - loss: 4.0716 - accuracy: \n",
      "Epoch 24/100\n",
      "15462/15462 [==============================] - 90s 6ms/sample - loss: 3.9451 - accuracy: 0.2155s\n",
      "Epoch 25/100\n",
      "15462/15462 [==============================] - 138s 9ms/sample - loss: 3.8257 - accuracy: 0.2385\n",
      "Epoch 26/100\n",
      "15462/15462 [==============================] - 171s 11ms/sample - loss: 3.7208 - accuracy: 0.2584\n",
      "Epoch 27/100\n",
      "15462/15462 [==============================] - 163s 11ms/sample - loss: 3.5905 - accuracy: 0.2778\n",
      "Epoch 28/100\n",
      "15462/15462 [==============================] - 177s 11ms/sample - loss: 3.4767 - accuracy: 0.3025\n",
      "Epoch 29/100\n",
      "15462/15462 [==============================] - 161s 10ms/sample - loss: 3.3752 - accuracy: 0.3227\n",
      "Epoch 30/100\n",
      "15462/15462 [==============================] - 170s 11ms/sample - loss: 3.2692 - accuracy: 0.3486\n",
      "Epoch 31/100\n",
      "15462/15462 [==============================] - 156s 10ms/sample - loss: 3.1693 - accuracy: 0.3686\n",
      "Epoch 32/100\n",
      "15462/15462 [==============================] - 169s 11ms/sample - loss: 3.0619 - accuracy: 0.3959\n",
      "Epoch 33/100\n",
      "15462/15462 [==============================] - 2697s 174ms/sample - loss: 2.9743 - accuracy: 0.4151\n",
      "Epoch 34/100\n",
      "15462/15462 [==============================] - 191s 12ms/sample - loss: 2.8669 - accuracy: 0.4430\n",
      "Epoch 35/100\n",
      "15462/15462 [==============================] - 163s 11ms/sample - loss: 2.7806 - accuracy: 0.4604\n",
      "Epoch 36/100\n",
      "15462/15462 [==============================] - 174s 11ms/sample - loss: 2.7019 - accuracy: 0.4759\n",
      "Epoch 37/100\n",
      "15462/15462 [==============================] - 105s 7ms/sample - loss: 2.6148 - accuracy: 0.4972\n",
      "Epoch 38/100\n",
      "15462/15462 [==============================] - 104s 7ms/sample - loss: 2.5306 - accuracy: 0.5200\n",
      "Epoch 39/100\n",
      "15462/15462 [==============================] - 114s 7ms/sample - loss: 2.4596 - accuracy: 0.5374\n",
      "Epoch 40/100\n",
      "15462/15462 [==============================] - 7874s 509ms/sample - loss: 2.3809 - accuracy: 0.5543\n",
      "Epoch 41/100\n",
      "15462/15462 [==============================] - 103s 7ms/sample - loss: 2.3163 - accuracy: 0.5680\n",
      "Epoch 42/100\n",
      "15462/15462 [==============================] - 110s 7ms/sample - loss: 2.2610 - accuracy: 0.5799\n",
      "Epoch 43/100\n",
      "15462/15462 [==============================] - 120s 8ms/sample - loss: 2.1943 - accuracy: 0.5976\n",
      "Epoch 44/100\n",
      "15462/15462 [==============================] - 108s 7ms/sample - loss: 2.1289 - accuracy: 0.6151\n",
      "Epoch 45/100\n",
      "15462/15462 [==============================] - 108s 7ms/sample - loss: 2.0718 - accuracy: 0.6262\n",
      "Epoch 46/100\n",
      "15462/15462 [==============================] - 119s 8ms/sample - loss: 2.0238 - accuracy: 0.6361\n",
      "Epoch 47/100\n",
      "15462/15462 [==============================] - 107s 7ms/sample - loss: 1.9665 - accuracy: 0.6463\n",
      "Epoch 48/100\n",
      "15462/15462 [==============================] - 107s 7ms/sample - loss: 1.9164 - accuracy: 0.6591\n",
      "Epoch 49/100\n",
      "15462/15462 [==============================] - 112s 7ms/sample - loss: 1.8693 - accuracy: 0.6698\n",
      "Epoch 50/100\n",
      "15462/15462 [==============================] - 89s 6ms/sample - loss: 1.8199 - accuracy: 0.6827\n",
      "Epoch 51/100\n",
      "15462/15462 [==============================] - 106s 7ms/sample - loss: 1.7882 - accuracy: 0.6870\n",
      "Epoch 52/100\n",
      "15462/15462 [==============================] - 115s 7ms/sample - loss: 1.7590 - accuracy: 0.6899\n",
      "Epoch 53/100\n",
      "15462/15462 [==============================] - 104s 7ms/sample - loss: 1.7142 - accuracy: 0.7022\n",
      "Epoch 54/100\n",
      "15462/15462 [==============================] - 103s 7ms/sample - loss: 1.6564 - accuracy: 0.7164\n",
      "Epoch 55/100\n",
      "15462/15462 [==============================] - 106s 7ms/sample - loss: 1.6210 - accuracy: 0.7278\n",
      "Epoch 56/100\n",
      "15462/15462 [==============================] - 107s 7ms/sample - loss: 1.5815 - accuracy: 0.7326\n",
      "Epoch 57/100\n",
      "15462/15462 [==============================] - 103s 7ms/sample - loss: 1.5465 - accuracy: 0.7400\n",
      "Epoch 58/100\n",
      "15462/15462 [==============================] - 106s 7ms/sample - loss: 1.5241 - accuracy: 0.7440\n",
      "Epoch 59/100\n",
      "15462/15462 [==============================] - 114s 7ms/sample - loss: 1.4992 - accuracy: 0.7476\n",
      "Epoch 60/100\n",
      "15462/15462 [==============================] - 101s 7ms/sample - loss: 1.4715 - accuracy: 0.7521\n",
      "Epoch 61/100\n",
      "15462/15462 [==============================] - 104s 7ms/sample - loss: 1.4546 - accuracy: 0.7557\n",
      "Epoch 62/100\n",
      "15462/15462 [==============================] - 116s 8ms/sample - loss: 1.4271 - accuracy: 0.7619\n",
      "Epoch 63/100\n",
      "15462/15462 [==============================] - 104s 7ms/sample - loss: 1.3988 - accuracy: 0.7688\n",
      "Epoch 64/100\n",
      "15462/15462 [==============================] - 106s 7ms/sample - loss: 1.3586 - accuracy: 0.7768\n",
      "Epoch 65/100\n",
      "15462/15462 [==============================] - 119s 8ms/sample - loss: 1.3468 - accuracy: 0.7773\n",
      "Epoch 66/100\n",
      "15462/15462 [==============================] - 99s 6ms/sample - loss: 1.3209 - accuracy: 0.7812\n",
      "Epoch 67/100\n",
      "15462/15462 [==============================] - 76s 5ms/sample - loss: 1.3072 - accuracy: 0.7815\n",
      "Epoch 68/100\n",
      "15462/15462 [==============================] - 70s 5ms/sample - loss: 1.2903 - accuracy: 0.7850\n",
      "Epoch 69/100\n",
      "15462/15462 [==============================] - 75s 5ms/sample - loss: 1.2703 - accuracy: 0.7881\n",
      "Epoch 70/100\n",
      "15462/15462 [==============================] - 68s 4ms/sample - loss: 1.2416 - accuracy: 0.7936\n",
      "Epoch 71/100\n",
      "15462/15462 [==============================] - 68s 4ms/sample - loss: 1.2149 - accuracy: 0.7974\n",
      "Epoch 72/100\n",
      "15462/15462 [==============================] - 70s 5ms/sample - loss: 1.1968 - accuracy: 0.8008\n",
      "Epoch 73/100\n",
      "15462/15462 [==============================] - 71s 5ms/sample - loss: 1.1942 - accuracy: 0.8022\n",
      "Epoch 74/100\n",
      "15462/15462 [==============================] - 78s 5ms/sample - loss: 1.1995 - accuracy: 0.7963\n",
      "Epoch 75/100\n"
     ]
    },
    {
     "name": "stdout",
     "output_type": "stream",
     "text": [
      "15462/15462 [==============================] - 69s 4ms/sample - loss: 1.1791 - accuracy: 0.8016\n",
      "Epoch 76/100\n",
      "15462/15462 [==============================] - 67s 4ms/sample - loss: 1.1452 - accuracy: 0.8055\n",
      "Epoch 77/100\n",
      "15462/15462 [==============================] - 69s 4ms/sample - loss: 1.1426 - accuracy: 0.8088\n",
      "Epoch 78/100\n",
      "15462/15462 [==============================] - 69s 4ms/sample - loss: 1.1351 - accuracy: 0.8075\n",
      "Epoch 79/100\n",
      "15462/15462 [==============================] - 75s 5ms/sample - loss: 1.1203 - accuracy: 0.8107\n",
      "Epoch 80/100\n",
      "15462/15462 [==============================] - 70s 5ms/sample - loss: 1.1009 - accuracy: 0.8141\n",
      "Epoch 81/100\n",
      "15462/15462 [==============================] - 71s 5ms/sample - loss: 1.0857 - accuracy: 0.8142\n",
      "Epoch 82/100\n",
      "15462/15462 [==============================] - 70s 5ms/sample - loss: 1.0658 - accuracy: 0.8194\n",
      "Epoch 83/100\n",
      "15462/15462 [==============================] - 74s 5ms/sample - loss: 1.0450 - accuracy: 0.8230\n",
      "Epoch 84/100\n",
      "15462/15462 [==============================] - 67s 4ms/sample - loss: 1.0624 - accuracy: 0.8188\n",
      "Epoch 85/100\n",
      "15462/15462 [==============================] - 68s 4ms/sample - loss: 1.0408 - accuracy: 0.8243\n",
      "Epoch 86/100\n",
      "15462/15462 [==============================] - 71s 5ms/sample - loss: 1.0460 - accuracy: 0.8223\n",
      "Epoch 87/100\n",
      "15462/15462 [==============================] - 71s 5ms/sample - loss: 1.0373 - accuracy: 0.8220\n",
      "Epoch 88/100\n",
      "15462/15462 [==============================] - 76s 5ms/sample - loss: 1.0432 - accuracy: 0.8195\n",
      "Epoch 89/100\n",
      "15462/15462 [==============================] - 71s 5ms/sample - loss: 1.0096 - accuracy: 0.8258\n",
      "Epoch 90/100\n",
      "15462/15462 [==============================] - 71s 5ms/sample - loss: 0.9942 - accuracy: 0.8302\n",
      "Epoch 91/100\n",
      "15462/15462 [==============================] - 70s 5ms/sample - loss: 0.9875 - accuracy: 0.8298\n",
      "Epoch 92/100\n",
      "15462/15462 [==============================] - 74s 5ms/sample - loss: 0.9832 - accuracy: 0.8275\n",
      "Epoch 93/100\n",
      "15462/15462 [==============================] - 72s 5ms/sample - loss: 0.9800 - accuracy: 0.8267\n",
      "Epoch 94/100\n",
      "15462/15462 [==============================] - 70s 5ms/sample - loss: 0.9696 - accuracy: 0.8308\n",
      "Epoch 95/100\n",
      "15462/15462 [==============================] - 70s 5ms/sample - loss: 0.9980 - accuracy: 0.8223\n",
      "Epoch 96/100\n",
      "15462/15462 [==============================] - 70s 5ms/sample - loss: 0.9632 - accuracy: 0.8292\n",
      "Epoch 97/100\n",
      "15462/15462 [==============================] - 76s 5ms/sample - loss: 0.9543 - accuracy: 0.8315\n",
      "Epoch 98/100\n",
      "15462/15462 [==============================] - 70s 5ms/sample - loss: 0.9293 - accuracy: 0.8334\n",
      "Epoch 99/100\n",
      "15462/15462 [==============================] - 70s 5ms/sample - loss: 0.9267 - accuracy: 0.8329\n",
      "Epoch 100/100\n",
      "15462/15462 [==============================] - 70s 5ms/sample - loss: 0.9227 - accuracy: 0.8360\n"
     ]
    }
   ],
   "source": [
    " history = model.fit(predictors, label, epochs=100, verbose=1)"
   ]
  },
  {
   "cell_type": "code",
   "execution_count": 21,
   "metadata": {
    "colab": {},
    "colab_type": "code",
    "id": "1fXTEO3GJ282"
   },
   "outputs": [
    {
     "data": {
      "image/png": "[encoded data removed]",
      "text/plain": [
       "<Figure size 432x288 with 1 Axes>"
      ]
     },
     "metadata": {
      "needs_background": "light"
     },
     "output_type": "display_data"
    },
    {
     "data": {
      "image/png": "[encoded data removed]",
      "text/plain": [
       "<Figure size 432x288 with 1 Axes>"
      ]
     },
     "metadata": {
      "needs_background": "light"
     },
     "output_type": "display_data"
    }
   ],
   "source": [
    "import matplotlib.pyplot as plt\n",
    "acc = history.history['accuracy']\n",
    "loss = history.history['loss']\n",
    "\n",
    "epochs = range(len(acc))\n",
    "\n",
    "plt.plot(epochs, acc, 'b', label='Training accuracy')\n",
    "plt.title('Training accuracy')\n",
    "\n",
    "plt.figure()\n",
    "\n",
    "plt.plot(epochs, loss, 'b', label='Training Loss')\n",
    "plt.title('Training loss')\n",
    "plt.legend()\n",
    "\n",
    "plt.show()"
   ]
  },
  {
   "cell_type": "code",
   "execution_count": 22,
   "metadata": {
    "colab": {},
    "colab_type": "code",
    "id": "6Vc6PHgxa6Hm"
   },
   "outputs": [
    {
     "name": "stdout",
     "output_type": "stream",
     "text": [
      "Help me Obi Wan Kenobi, you're my only hope well up stay lie of such cross cross or youth still hence find their crime best can shine 'no ' not bright go 'tis on me had forsaken away alone please another's triumph part ' do most abide abide give bright decay store in sweetest crime weeds forth men increase spent must go shown dearer must prove say wrong prove decay store their store decrease crime crime dyed away away both shown brought to go from pleasure their gone within his store room decrease another age in rest weeds men increase increase shown hate well must must go twain crime\n"
     ]
    }
   ],
   "source": [
    "seed_text = \"Help me Obi Wan Kenobi, you're my only hope\"\n",
    "next_words = 100\n",
    "  \n",
    "for _ in range(next_words):\n",
    "    token_list = tokenizer.texts_to_sequences([seed_text])[0]\n",
    "    token_list = pad_sequences([token_list], maxlen=max_sequence_len-1, padding='pre')\n",
    "    predicted = model.predict_classes(token_list, verbose=0)\n",
    "    output_word = \"\"\n",
    "    for word, index in tokenizer.word_index.items():\n",
    "        if index == predicted:\n",
    "            output_word = word\n",
    "            break\n",
    "    seed_text += \" \" + output_word\n",
    "print(seed_text)"
   ]
  }
 ],
 "metadata": {
  "accelerator": "GPU",
  "colab": {
   "name": "NLP_Week4_Exercise_Shakespeare_Question.ipynb",
   "provenance": [],
   "toc_visible": true
  },
  "kernelspec": {
   "display_name": "Python 3",
   "language": "python",
   "name": "python3"
  },
  "language_info": {
   "codemirror_mode": {
    "name": "ipython",
    "version": 3
   },
   "file_extension": ".py",
   "mimetype": "text/x-python",
   "name": "python",
   "nbconvert_exporter": "python",
   "pygments_lexer": "ipython3",
   "version": "3.7.7"
  }
 },
 "nbformat": 4,
 "nbformat_minor": 1
}
