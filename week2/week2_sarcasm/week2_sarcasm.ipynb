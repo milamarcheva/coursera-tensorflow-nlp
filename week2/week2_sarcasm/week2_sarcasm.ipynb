{
 "cells": [
  {
   "cell_type": "code",
   "execution_count": 2,
   "metadata": {},
   "outputs": [],
   "source": [
    "import io\n",
    "import numpy as np\n",
    "import pandas as pd\n",
    "import tensorflow as tf\n",
    "import matplotlib.pyplot as plt\n",
    "import tensorflow_datasets as tfds\n",
    "from tensorflow.keras.preprocessing.text import Tokenizer\n",
    "from tensorflow.keras.preprocessing.sequence import pad_sequences"
   ]
  },
  {
   "cell_type": "code",
   "execution_count": 108,
   "metadata": {},
   "outputs": [],
   "source": [
    "num_words = 2000\n",
    "maxlen = 20\n",
    "training_size=20000\n",
    "embedding_dim = 16\n",
    "oov_token = \"<OOV>\"\n",
    "truncating = \"post\"\n",
    "padding = \"post\""
   ]
  },
  {
   "cell_type": "code",
   "execution_count": 109,
   "metadata": {},
   "outputs": [],
   "source": [
    "url = \"https://storage.googleapis.com/laurencemoroney-blog.appspot.com/sarcasm.json\"\n",
    "df = pd.read_json(url)"
   ]
  },
  {
   "cell_type": "code",
   "execution_count": 110,
   "metadata": {},
   "outputs": [],
   "source": [
    "sentences = np.array(df['headline'])\n",
    "labels = np.array(df['is_sarcastic'])"
   ]
  },
  {
   "cell_type": "code",
   "execution_count": 111,
   "metadata": {},
   "outputs": [],
   "source": [
    "training_sentences = sentences[0:training_size]\n",
    "testing_sentences = sentences[training_size:]"
   ]
  },
  {
   "cell_type": "code",
   "execution_count": 112,
   "metadata": {},
   "outputs": [],
   "source": [
    "training_labels = labels[0:training_size]\n",
    "testing_labels = labels[training_size:]"
   ]
  },
  {
   "cell_type": "code",
   "execution_count": 113,
   "metadata": {},
   "outputs": [],
   "source": [
    "tokenizer = Tokenizer(num_words=num_words, oov_token=oov_token)\n",
    "tokenizer.fit_on_texts(training_sentences)"
   ]
  },
  {
   "cell_type": "code",
   "execution_count": 114,
   "metadata": {},
   "outputs": [],
   "source": [
    "word_index = tokenizer.word_index"
   ]
  },
  {
   "cell_type": "code",
   "execution_count": 115,
   "metadata": {},
   "outputs": [],
   "source": [
    "training_sequences = tokenizer.texts_to_sequences(training_sentences)\n",
    "training_padded = pad_sequences(training_sequences, maxlen=maxlen, truncating=truncating, padding=padding)"
   ]
  },
  {
   "cell_type": "code",
   "execution_count": 116,
   "metadata": {},
   "outputs": [],
   "source": [
    "testing_sequences = tokenizer.texts_to_sequences(testing_sentences)\n",
    "testing_padded = pad_sequences(testing_sequences, maxlen=maxlen, truncating=truncating, padding=padding)"
   ]
  },
  {
   "cell_type": "code",
   "execution_count": 117,
   "metadata": {},
   "outputs": [],
   "source": [
    "model = tf.keras.Sequential([\n",
    "    tf.keras.layers.Embedding(num_words, embedding_dim, input_length=maxlen),\n",
    "    tf.keras.layers.GlobalAveragePooling1D(),\n",
    "    tf.keras.layers.Dense(24, activation='relu'),\n",
    "    tf.keras.layers.Dense(1, activation='sigmoid')\n",
    "])"
   ]
  },
  {
   "cell_type": "code",
   "execution_count": 118,
   "metadata": {},
   "outputs": [
    {
     "name": "stdout",
     "output_type": "stream",
     "text": [
      "Model: \"sequential_8\"\n",
      "_________________________________________________________________\n",
      "Layer (type)                 Output Shape              Param #   \n",
      "=================================================================\n",
      "embedding_8 (Embedding)      (None, 20, 16)            32000     \n",
      "_________________________________________________________________\n",
      "global_average_pooling1d_8 ( (None, 16)                0         \n",
      "_________________________________________________________________\n",
      "dense_16 (Dense)             (None, 24)                408       \n",
      "_________________________________________________________________\n",
      "dense_17 (Dense)             (None, 1)                 25        \n",
      "=================================================================\n",
      "Total params: 32,433\n",
      "Trainable params: 32,433\n",
      "Non-trainable params: 0\n",
      "_________________________________________________________________\n"
     ]
    }
   ],
   "source": [
    "model.compile(loss='binary_crossentropy',optimizer='adam',metrics=['accuracy'])\n",
    "model.summary()"
   ]
  },
  {
   "cell_type": "code",
   "execution_count": 119,
   "metadata": {
    "scrolled": true
   },
   "outputs": [
    {
     "name": "stdout",
     "output_type": "stream",
     "text": [
      "Train on 20000 samples, validate on 6709 samples\n",
      "Epoch 1/30\n",
      "20000/20000 - 4s - loss: 0.5199 - accuracy: 0.7390 - val_loss: 0.3935 - val_accuracy: 0.8220\n",
      "Epoch 2/30\n",
      "20000/20000 - 2s - loss: 0.3438 - accuracy: 0.8504 - val_loss: 0.3693 - val_accuracy: 0.8319\n",
      "Epoch 3/30\n",
      "20000/20000 - 2s - loss: 0.3163 - accuracy: 0.8620 - val_loss: 0.3722 - val_accuracy: 0.8304\n",
      "Epoch 4/30\n",
      "20000/20000 - 2s - loss: 0.3041 - accuracy: 0.8668 - val_loss: 0.3788 - val_accuracy: 0.8267\n",
      "Epoch 5/30\n",
      "20000/20000 - 2s - loss: 0.2990 - accuracy: 0.8687 - val_loss: 0.3836 - val_accuracy: 0.8259\n",
      "Epoch 6/30\n",
      "20000/20000 - 2s - loss: 0.2943 - accuracy: 0.8723 - val_loss: 0.3887 - val_accuracy: 0.8278\n",
      "Epoch 7/30\n",
      "20000/20000 - 2s - loss: 0.2925 - accuracy: 0.8734 - val_loss: 0.3901 - val_accuracy: 0.8272\n",
      "Epoch 8/30\n",
      "20000/20000 - 2s - loss: 0.2895 - accuracy: 0.8740 - val_loss: 0.3939 - val_accuracy: 0.8274\n",
      "Epoch 9/30\n",
      "20000/20000 - 2s - loss: 0.2871 - accuracy: 0.8747 - val_loss: 0.3961 - val_accuracy: 0.8301\n",
      "Epoch 10/30\n",
      "20000/20000 - 2s - loss: 0.2842 - accuracy: 0.8780 - val_loss: 0.3983 - val_accuracy: 0.8289\n",
      "Epoch 11/30\n",
      "20000/20000 - 2s - loss: 0.2827 - accuracy: 0.8773 - val_loss: 0.3973 - val_accuracy: 0.8264\n",
      "Epoch 12/30\n",
      "20000/20000 - 2s - loss: 0.2797 - accuracy: 0.8782 - val_loss: 0.4010 - val_accuracy: 0.8295\n",
      "Epoch 13/30\n",
      "20000/20000 - 2s - loss: 0.2766 - accuracy: 0.8810 - val_loss: 0.3925 - val_accuracy: 0.8325\n",
      "Epoch 14/30\n",
      "20000/20000 - 2s - loss: 0.2724 - accuracy: 0.8825 - val_loss: 0.3957 - val_accuracy: 0.8322\n",
      "Epoch 15/30\n",
      "20000/20000 - 2s - loss: 0.2695 - accuracy: 0.8834 - val_loss: 0.3973 - val_accuracy: 0.8322\n",
      "Epoch 16/30\n",
      "20000/20000 - 2s - loss: 0.2660 - accuracy: 0.8845 - val_loss: 0.3973 - val_accuracy: 0.8326\n",
      "Epoch 17/30\n",
      "20000/20000 - 2s - loss: 0.2620 - accuracy: 0.8881 - val_loss: 0.3957 - val_accuracy: 0.8344\n",
      "Epoch 18/30\n",
      "20000/20000 - 2s - loss: 0.2582 - accuracy: 0.8913 - val_loss: 0.3973 - val_accuracy: 0.8331\n",
      "Epoch 19/30\n",
      "20000/20000 - 2s - loss: 0.2535 - accuracy: 0.8935 - val_loss: 0.4029 - val_accuracy: 0.8313\n",
      "Epoch 20/30\n",
      "20000/20000 - 2s - loss: 0.2499 - accuracy: 0.8929 - val_loss: 0.4061 - val_accuracy: 0.8341\n",
      "Epoch 21/30\n",
      "20000/20000 - 2s - loss: 0.2456 - accuracy: 0.8974 - val_loss: 0.4074 - val_accuracy: 0.8334\n",
      "Epoch 22/30\n",
      "20000/20000 - 2s - loss: 0.2415 - accuracy: 0.8995 - val_loss: 0.4155 - val_accuracy: 0.8313\n",
      "Epoch 23/30\n",
      "20000/20000 - 2s - loss: 0.2379 - accuracy: 0.9000 - val_loss: 0.4199 - val_accuracy: 0.8302\n",
      "Epoch 24/30\n",
      "20000/20000 - 2s - loss: 0.2346 - accuracy: 0.9010 - val_loss: 0.4203 - val_accuracy: 0.8328\n",
      "Epoch 25/30\n",
      "20000/20000 - 2s - loss: 0.2311 - accuracy: 0.9050 - val_loss: 0.4292 - val_accuracy: 0.8259\n",
      "Epoch 26/30\n",
      "20000/20000 - 2s - loss: 0.2280 - accuracy: 0.9062 - val_loss: 0.4343 - val_accuracy: 0.8264\n",
      "Epoch 27/30\n",
      "20000/20000 - 2s - loss: 0.2255 - accuracy: 0.9059 - val_loss: 0.4409 - val_accuracy: 0.8232\n",
      "Epoch 28/30\n",
      "20000/20000 - 2s - loss: 0.2214 - accuracy: 0.9100 - val_loss: 0.4460 - val_accuracy: 0.8231\n",
      "Epoch 29/30\n",
      "20000/20000 - 2s - loss: 0.2195 - accuracy: 0.9105 - val_loss: 0.4513 - val_accuracy: 0.8264\n",
      "Epoch 30/30\n",
      "20000/20000 - 2s - loss: 0.2171 - accuracy: 0.9117 - val_loss: 0.4532 - val_accuracy: 0.8275\n"
     ]
    }
   ],
   "source": [
    "num_epochs = 30\n",
    "history = model.fit(training_padded, training_labels, epochs=num_epochs, validation_data=(testing_padded, testing_labels), verbose=2)"
   ]
  },
  {
   "cell_type": "code",
   "execution_count": 120,
   "metadata": {},
   "outputs": [
    {
     "data": {
      "image/png": "[encoded data removed]",
      "text/plain": [
       "<Figure size 432x288 with 1 Axes>"
      ]
     },
     "metadata": {
      "needs_background": "light"
     },
     "output_type": "display_data"
    },
    {
     "data": {
      "image/png": "[encoded data removed]",
      "text/plain": [
       "<Figure size 432x288 with 1 Axes>"
      ]
     },
     "metadata": {
      "needs_background": "light"
     },
     "output_type": "display_data"
    }
   ],
   "source": [
    "def plot_graphs(history, string):\n",
    "    plt.plot(history.history[string])\n",
    "    plt.plot(history.history['val_'+string])\n",
    "    plt.xlabel(\"Epochs\")\n",
    "    plt.ylabel(string)\n",
    "    plt.legend([string, 'val_'+string])\n",
    "    plt.show()\n",
    "\n",
    "plot_graphs(history, \"accuracy\")\n",
    "plot_graphs(history, \"loss\")"
   ]
  },
  {
   "cell_type": "markdown",
   "metadata": {},
   "source": [
    "### Tweak hyperparams so that accuracy is above 90% and the loss function is relatively flat (doesn't have a steep increase). Think of loss as the confidence in prediction."
   ]
  },
  {
   "cell_type": "markdown",
   "metadata": {},
   "source": [
    "num_words = 10000\n",
    "maxlen = 32\n",
    "training_size=20000\n",
    "embedding_dim = 16\n",
    "loss: 0.0088 - accuracy: 0.9969 - val_loss: 1.8266 - val_accuracy: 0.8040"
   ]
  },
  {
   "cell_type": "markdown",
   "metadata": {},
   "source": [
    "num_words = 1000\n",
    "maxlen = 32 \n",
    "loss: 0.3382 - accuracy: 0.8459 - val_loss: 0.4094 - val_accuracy: 0.8119"
   ]
  },
  {
   "cell_type": "markdown",
   "metadata": {},
   "source": [
    "num_words = 5000 \n",
    "maxlen = 28\n",
    "loss: 0.0780 - accuracy: 0.9743 - val_loss: 0.9383 - val_accuracy: 0.8089"
   ]
  },
  {
   "cell_type": "markdown",
   "metadata": {},
   "source": [
    "num_words = 2000\n",
    "maxlen = 28\n",
    "loss: 0.2389 - accuracy: 0.8994 - val_loss: 0.4381 - val_accuracy: 0.8223"
   ]
  },
  {
   "cell_type": "markdown",
   "metadata": {},
   "source": [
    "num_words = 2000\n",
    "maxlen = 30\n",
    "loss: 0.2753 - accuracy: 0.8795 - val_loss: 0.4175 - val_accuracy: 0.8244"
   ]
  },
  {
   "cell_type": "markdown",
   "metadata": {},
   "source": [
    "num_words = 2000\n",
    "maxlen = 25\n",
    "loss: 0.2523 - accuracy: 0.8901 - val_loss: 0.4104 - val_accuracy: 0.8289"
   ]
  },
  {
   "cell_type": "markdown",
   "metadata": {},
   "source": [
    "num_words = 2000\n",
    "maxlen = 20\n",
    "loss: 0.2171 - accuracy: 0.9117 - val_loss: 0.4532 - val_accuracy: 0.8275"
   ]
  },
  {
   "cell_type": "markdown",
   "metadata": {},
   "source": [
    "### Preparing data for https://projector.tensorflow.org/"
   ]
  },
  {
   "cell_type": "code",
   "execution_count": 126,
   "metadata": {},
   "outputs": [],
   "source": [
    "reverse_word_index = dict([(val, word) for (word, val) in word_index.items()])"
   ]
  },
  {
   "cell_type": "code",
   "execution_count": 127,
   "metadata": {},
   "outputs": [
    {
     "ename": "FileNotFoundError",
     "evalue": "[Errno 2] No such file or directory: 'week2_sarcasm/vecs.tsv'",
     "output_type": "error",
     "traceback": [
      "\u001b[1;31m---------------------------------------------------------------------------\u001b[0m",
      "\u001b[1;31mFileNotFoundError\u001b[0m                         Traceback (most recent call last)",
      "\u001b[1;32m<ipython-input-127-d0f039e4f740>\u001b[0m in \u001b[0;36m<module>\u001b[1;34m\u001b[0m\n\u001b[1;32m----> 1\u001b[1;33m \u001b[0mout_v\u001b[0m \u001b[1;33m=\u001b[0m \u001b[0mio\u001b[0m\u001b[1;33m.\u001b[0m\u001b[0mopen\u001b[0m\u001b[1;33m(\u001b[0m\u001b[1;34m'week2_sarcasm/vecs.tsv'\u001b[0m\u001b[1;33m,\u001b[0m \u001b[1;34m'w'\u001b[0m\u001b[1;33m,\u001b[0m \u001b[0mencoding\u001b[0m\u001b[1;33m=\u001b[0m\u001b[1;34m'utf-8'\u001b[0m\u001b[1;33m)\u001b[0m\u001b[1;33m\u001b[0m\u001b[1;33m\u001b[0m\u001b[0m\n\u001b[0m\u001b[0;32m      2\u001b[0m \u001b[0mout_m\u001b[0m \u001b[1;33m=\u001b[0m \u001b[0mio\u001b[0m\u001b[1;33m.\u001b[0m\u001b[0mopen\u001b[0m\u001b[1;33m(\u001b[0m\u001b[1;34m'week2_sarcasm/meta.tsv'\u001b[0m\u001b[1;33m,\u001b[0m \u001b[1;34m'w'\u001b[0m\u001b[1;33m,\u001b[0m \u001b[0mencoding\u001b[0m\u001b[1;33m=\u001b[0m\u001b[1;34m'utf-8'\u001b[0m\u001b[1;33m)\u001b[0m\u001b[1;33m\u001b[0m\u001b[1;33m\u001b[0m\u001b[0m\n\u001b[0;32m      3\u001b[0m \u001b[1;33m\u001b[0m\u001b[0m\n\u001b[0;32m      4\u001b[0m \u001b[1;32mfor\u001b[0m \u001b[0mword_num\u001b[0m \u001b[1;32min\u001b[0m \u001b[0mrange\u001b[0m\u001b[1;33m(\u001b[0m\u001b[1;36m1\u001b[0m\u001b[1;33m,\u001b[0m \u001b[0mnum_words\u001b[0m\u001b[1;33m)\u001b[0m\u001b[1;33m:\u001b[0m\u001b[1;33m\u001b[0m\u001b[1;33m\u001b[0m\u001b[0m\n\u001b[0;32m      5\u001b[0m     \u001b[0mword\u001b[0m \u001b[1;33m=\u001b[0m \u001b[0mreverse_word_index\u001b[0m\u001b[1;33m[\u001b[0m\u001b[0mword_num\u001b[0m\u001b[1;33m]\u001b[0m\u001b[1;33m\u001b[0m\u001b[1;33m\u001b[0m\u001b[0m\n",
      "\u001b[1;31mFileNotFoundError\u001b[0m: [Errno 2] No such file or directory: 'week2_sarcasm/vecs.tsv'"
     ]
    }
   ],
   "source": [
    "out_v = io.open('week2_sarcasm/vecs.tsv', 'w', encoding='utf-8')\n",
    "out_m = io.open('week2_sarcasm/meta.tsv', 'w', encoding='utf-8')\n",
    "\n",
    "for word_num in range(1, num_words):\n",
    "    word = reverse_word_index[word_num]\n",
    "    embeddings = weights[word_num]\n",
    "    out_m.write(word + '\\n')\n",
    "    out_v.write(\"\\t\".join([str(x) for x in embeddings]) + \"\\n\")\n",
    "    \n",
    "out_m.close()\n",
    "out_v.close()"
   ]
  },
  {
   "cell_type": "code",
   "execution_count": null,
   "metadata": {},
   "outputs": [],
   "source": []
  }
 ],
 "metadata": {
  "kernelspec": {
   "display_name": "Python 3",
   "language": "python",
   "name": "python3"
  },
  "language_info": {
   "codemirror_mode": {
    "name": "ipython",
    "version": 3
   },
   "file_extension": ".py",
   "mimetype": "text/x-python",
   "name": "python",
   "nbconvert_exporter": "python",
   "pygments_lexer": "ipython3",
   "version": "3.7.7"
  }
 },
 "nbformat": 4,
 "nbformat_minor": 4
}
